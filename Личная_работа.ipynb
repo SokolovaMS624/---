{
  "nbformat": 4,
  "nbformat_minor": 0,
  "metadata": {
    "colab": {
      "name": "Личная работа ",
      "provenance": []
    },
    "kernelspec": {
      "name": "python3",
      "display_name": "Python 3"
    }
  },
  "cells": [
    {
      "cell_type": "markdown",
      "metadata": {
        "id": "_dCsDjYLZOaS"
      },
      "source": [
        "Занятие 1\n",
        "\n",
        "Задание 1"
      ]
    },
    {
      "cell_type": "code",
      "metadata": {
        "id": "_0VPlwGKY6tK"
      },
      "source": [
        "2 + 2"
      ],
      "execution_count": null,
      "outputs": []
    },
    {
      "cell_type": "code",
      "metadata": {
        "id": "EkJ3my4cZzc_"
      },
      "source": [
        "3 - 5"
      ],
      "execution_count": null,
      "outputs": []
    },
    {
      "cell_type": "code",
      "metadata": {
        "id": "gvE5h7aXZzgw"
      },
      "source": [
        "25 * 5"
      ],
      "execution_count": null,
      "outputs": []
    },
    {
      "cell_type": "code",
      "metadata": {
        "id": "304JRyc9Zzjm"
      },
      "source": [
        "100/4"
      ],
      "execution_count": null,
      "outputs": []
    },
    {
      "cell_type": "code",
      "metadata": {
        "id": "WHwguhD_Zzmv"
      },
      "source": [
        "8+3*5"
      ],
      "execution_count": null,
      "outputs": []
    },
    {
      "cell_type": "code",
      "metadata": {
        "id": "MtfFtgBUZzrs"
      },
      "source": [
        "(8+3)*5"
      ],
      "execution_count": null,
      "outputs": []
    },
    {
      "cell_type": "code",
      "metadata": {
        "id": "csgK52UzaNFC"
      },
      "source": [
        "18//4"
      ],
      "execution_count": null,
      "outputs": []
    },
    {
      "cell_type": "code",
      "metadata": {
        "id": "mDtssUtiaNJw"
      },
      "source": [
        "18/4"
      ],
      "execution_count": null,
      "outputs": []
    },
    {
      "cell_type": "code",
      "metadata": {
        "id": "6Z5JRo_ZaNUm"
      },
      "source": [
        "13//4 #Деление без остатка"
      ],
      "execution_count": null,
      "outputs": []
    },
    {
      "cell_type": "code",
      "metadata": {
        "id": "qLYBxsNUaNbk"
      },
      "source": [
        "13%4 #Остаток от деления"
      ],
      "execution_count": null,
      "outputs": []
    },
    {
      "cell_type": "code",
      "metadata": {
        "id": "X9M4uQ1eaNe6"
      },
      "source": [
        "5**3 #Возведение в степень "
      ],
      "execution_count": null,
      "outputs": []
    },
    {
      "cell_type": "code",
      "metadata": {
        "id": "-fi8t6A5ZzqC"
      },
      "source": [
        "5 == 5"
      ],
      "execution_count": null,
      "outputs": []
    },
    {
      "cell_type": "code",
      "metadata": {
        "id": "5GdXWeDzbU-n"
      },
      "source": [
        "5 == 6"
      ],
      "execution_count": null,
      "outputs": []
    },
    {
      "cell_type": "code",
      "metadata": {
        "id": "pv5bBGrQbVCA"
      },
      "source": [
        "5<3"
      ],
      "execution_count": null,
      "outputs": []
    },
    {
      "cell_type": "code",
      "metadata": {
        "id": "XyqC4_QMbVOT"
      },
      "source": [
        "5 > 3"
      ],
      "execution_count": null,
      "outputs": []
    },
    {
      "cell_type": "code",
      "metadata": {
        "id": "NZpRuzErbhT1"
      },
      "source": [
        "6 <= 2"
      ],
      "execution_count": null,
      "outputs": []
    },
    {
      "cell_type": "code",
      "metadata": {
        "id": "H-72pkO6bhXG"
      },
      "source": [
        "4 <= 5  "
      ],
      "execution_count": null,
      "outputs": []
    },
    {
      "cell_type": "code",
      "metadata": {
        "id": "ieVXk2JCbha4"
      },
      "source": [
        "print (333333)"
      ],
      "execution_count": null,
      "outputs": []
    },
    {
      "cell_type": "code",
      "metadata": {
        "id": "V9RzxEzQbhfo"
      },
      "source": [
        "print (\"Hi\") "
      ],
      "execution_count": null,
      "outputs": []
    },
    {
      "cell_type": "code",
      "metadata": {
        "id": "J1Ux0aWybhlU"
      },
      "source": [
        "\"выммв\""
      ],
      "execution_count": null,
      "outputs": []
    },
    {
      "cell_type": "code",
      "metadata": {
        "id": "v0YD5a4_bhrE"
      },
      "source": [
        "'dgggf'"
      ],
      "execution_count": null,
      "outputs": []
    },
    {
      "cell_type": "code",
      "metadata": {
        "id": "99ohdH3Ybhx_"
      },
      "source": [
        "'I don't love it....'"
      ],
      "execution_count": null,
      "outputs": []
    },
    {
      "cell_type": "code",
      "metadata": {
        "id": "HD4VsJPibh00"
      },
      "source": [
        "\"I don't love it....\""
      ],
      "execution_count": null,
      "outputs": []
    },
    {
      "cell_type": "code",
      "metadata": {
        "id": "ISG1NgSdbhpJ"
      },
      "source": [
        "'I don\\'t love it....'"
      ],
      "execution_count": null,
      "outputs": []
    },
    {
      "cell_type": "code",
      "metadata": {
        "id": "XjnxeFsLbhjj"
      },
      "source": [
        "print (\"Сок\")"
      ],
      "execution_count": null,
      "outputs": []
    },
    {
      "cell_type": "code",
      "metadata": {
        "id": "GETh3A3tdC9D"
      },
      "source": [
        "print (\"C:\\User\\Desktop\\Python\")"
      ],
      "execution_count": null,
      "outputs": []
    },
    {
      "cell_type": "code",
      "metadata": {
        "id": "oIKT-gmvdDAg"
      },
      "source": [
        "print (r\"C:\\User\\Desktop\\Python\")"
      ],
      "execution_count": null,
      "outputs": []
    },
    {
      "cell_type": "code",
      "metadata": {
        "id": "OHsm6sVrd1H-",
        "outputId": "27b362b5-2cdb-4e0e-9ac4-5a3fabbf7f1d",
        "colab": {
          "base_uri": "https://localhost:8080/",
          "height": 52
        }
      },
      "source": [
        "firstName = \"Marina \"\n",
        "secondName =\"Sokolova\"\n",
        "some = firstName + secondName\n",
        "print (some)\n",
        "firstName*3"
      ],
      "execution_count": null,
      "outputs": [
        {
          "output_type": "stream",
          "text": [
            "Marina Sokolova\n"
          ],
          "name": "stdout"
        },
        {
          "output_type": "execute_result",
          "data": {
            "application/vnd.google.colaboratory.intrinsic+json": {
              "type": "string"
            },
            "text/plain": [
              "'Marina Marina Marina '"
            ]
          },
          "metadata": {
            "tags": []
          },
          "execution_count": 43
        }
      ]
    },
    {
      "cell_type": "code",
      "metadata": {
        "id": "QuyHEsu3d1Mp"
      },
      "source": [
        "\"some \" + \"test\""
      ],
      "execution_count": null,
      "outputs": []
    },
    {
      "cell_type": "code",
      "metadata": {
        "id": "07RVUPpEeLaa"
      },
      "source": [
        "# Cписки\n",
        "playrs = [17, 5, 8, 3, 21]\n",
        "playrs [2]\n",
        "# Изменение одного компанента списка на другой \n",
        "playrs [3] = 10\n",
        "playrs [3]\n",
        "playrs\n",
        "# Добавление компонентов на одно событие \n",
        "playrs + [4, 11, 6]\n",
        "# Добавление компонентов на постоянку с помощью функции \"append(...)\"\n",
        "playrs. append(4)\n",
        "# Обрезание списка до 2 элементов  через [:...]\n",
        "playrs[:2]\n",
        "# Редактирование списка с помощью [кол-во элементов для изменения] = [на какие элементы надо изменить]\n",
        "playrs[:2] = [0, \"true\"]\n",
        "playrs\n",
        "# Удаление 2 элементов с помощью []\n",
        "playrs[:2] = []\n",
        "playrs\n",
        "# Удаление всех элементов с помощью []\n",
        "playrs[:] = []"
      ],
      "execution_count": null,
      "outputs": []
    },
    {
      "cell_type": "code",
      "metadata": {
        "id": "JEo5NPRZgkjx"
      },
      "source": [
        "# Переменные и их имена \n",
        "var = 11 #var - переменная, 11 - объект\n",
        "varsome = \"some\"\n",
        "\n",
        "num1 = 22\n",
        "num2 = 33\n",
        "\n",
        "res = num1 +num2\n",
        "print (res)\n",
        "\n",
        "num1 = 12\n",
        "res = num1 +num2\n",
        "print (res)\n",
        "\n",
        "num2 = ' someWor'\n",
        "# Перевод из числа в строку для сложения\n",
        "str1 = str (num1)\n",
        "res = str (num1) +num2\n",
        "print (res)"
      ],
      "execution_count": null,
      "outputs": []
    },
    {
      "cell_type": "code",
      "metadata": {
        "id": "lHQJZRp4gkrb"
      },
      "source": [
        "var = input()\n",
        "print (type(var))\n",
        "# Тип данных str - строка"
      ],
      "execution_count": null,
      "outputs": []
    },
    {
      "cell_type": "code",
      "metadata": {
        "id": "F5L_JmGngkvv"
      },
      "source": [
        "num1 =float(input( ))\n",
        "num2 =float (input ( ))\n",
        "\n",
        "summ = num1 + num2\n",
        "\n",
        "#print (summ)\n",
        "some1 = \"22\"\n",
        "some2 = '33'\n",
        "\n",
        "#int - преобразование из строки в число \n",
        "#some1 = int (some1)\n",
        "#some2 = int (some2)\n",
        "#summ = some1 + some2\n",
        "\n",
        "#float - для чисел c дробной частью \n",
        "#some1 = float(some1)\n",
        "#some2 = float(some2)\n",
        "#summ = some1 + some2\n",
        "\n",
        "print (summ)"
      ],
      "execution_count": null,
      "outputs": []
    },
    {
      "cell_type": "code",
      "metadata": {
        "id": "OKfaiQ02gkzK"
      },
      "source": [
        "age = 12\n",
        "#Условие \n",
        "if age < 20:\n",
        "  print (\"age < 20\")\n",
        "#Доп проверка\n",
        "elif age >20:\n",
        "  print (\"age > 20\")\n",
        "#Альтернативный вывод\n",
        "else: \n",
        "  print (\"age - 20\")"
      ],
      "execution_count": null,
      "outputs": []
    },
    {
      "cell_type": "code",
      "metadata": {
        "id": "FU5l1Wk1gk-R"
      },
      "source": [
        "name = \"Marina\"\n",
        "if name is 'ii':\n",
        "  print (\"лох\")\n",
        "elif name is \"in\":\n",
        "  print (\"кусь\")\n",
        "else:\n",
        "  print(\"Marina\")"
      ],
      "execution_count": null,
      "outputs": []
    },
    {
      "cell_type": "code",
      "metadata": {
        "id": "ebU7EbOcglC4"
      },
      "source": [
        "#ЛОГИКА True and False\n",
        "#and (И)\n",
        "#or (или)\n",
        "#not (не)\n",
        "#!= (не равно )\n",
        "#== (равно )\n",
        "#>= (больше или равно )\n",
        "#<= (меньше или равно )\n",
        "#True (правда )\n",
        "#False (ложь)\n",
        "\n",
        "str = \"some\"\n",
        "var = True\n",
        "\n",
        "if str and var:\n",
        "  print (\"Done\")"
      ],
      "execution_count": null,
      "outputs": []
    },
    {
      "cell_type": "code",
      "metadata": {
        "id": "L1rt79qaglKB"
      },
      "source": [
        "# Циклы и списки \n",
        "basket = ['Молоко', 'Колбаса', 'Конфеты', 'Сигареты', 'Хлеб', 'Cоль']\n",
        "#Запускаем цикл for, берем переменную, которая присваивается каждому элементу из списка, указываем список.\n",
        "for f in basket[:3]:\n",
        "  \n",
        "  #if f == 'Колбаса':\n",
        "   # some = f + '+'\n",
        "   # print (some)\n",
        "   print(len(f))"
      ],
      "execution_count": null,
      "outputs": []
    },
    {
      "cell_type": "code",
      "metadata": {
        "id": "p2nrxy-AglHo"
      },
      "source": [
        "def some():\n",
        "  print ('some')\n",
        "\n",
        "some()"
      ],
      "execution_count": null,
      "outputs": []
    },
    {
      "cell_type": "code",
      "metadata": {
        "id": "2mSel9_-glGc"
      },
      "source": [
        "def bitcoin_to_usd(btc, curs):\n",
        "  amount = btc * curs\n",
        "  print (amount)\n",
        "\n",
        "bitcoin_to_usd(round (4.6), 4100)\n"
      ],
      "execution_count": null,
      "outputs": []
    },
    {
      "cell_type": "code",
      "metadata": {
        "id": "cKCNezzZglBX",
        "outputId": "d0d02273-40f8-44e7-96c5-54c88a9754c8",
        "colab": {
          "base_uri": "https://localhost:8080/",
          "height": 147
        }
      },
      "source": [
        "class Dog():\n",
        "  #\"Простая модель собаки\"\n",
        "  def __init__(self, name, age):\n",
        "  #\"Инициализируем атрибуты имя и возраст\"\n",
        "    self.name = name\n",
        "    self.age = age \n",
        "    print ('Собака создана')\n",
        "\n",
        "  def sit(self):\n",
        "  #\"Собака будет садиться по команде\"\n",
        "    print(self.name.title()+ \"сел\")\n",
        "  def jump(self):\n",
        "  #Собака будет прыгать по команде\n",
        "    print(self.name.title()+ \"сделал прыжок\")\n",
        "\n",
        "my_dog = Dog ('Topic ', 4)\n",
        "print (my_dog.age)\n",
        "print (my_dog.name)\n",
        "my_dog.jump()\n",
        "\n",
        "\n",
        "my_dog_2 = Dog('Nick ', 7) \n",
        "print (my_dog_2.age)\n",
        "print (my_dog_2.name)\n",
        "my_dog_2.sit()\n",
        "\n",
        "\n"
      ],
      "execution_count": null,
      "outputs": [
        {
          "output_type": "stream",
          "text": [
            "Собака создана\n",
            "4\n",
            "Topic \n",
            "Topic сделал прыжок\n",
            "Собака создана\n",
            "7\n",
            "Nick \n",
            "Nick сел\n"
          ],
          "name": "stdout"
        }
      ]
    },
    {
      "cell_type": "code",
      "metadata": {
        "id": "D1nYrIuHgk8G"
      },
      "source": [
        ""
      ],
      "execution_count": null,
      "outputs": []
    },
    {
      "cell_type": "code",
      "metadata": {
        "id": "FX8kns-3gk5S"
      },
      "source": [
        ""
      ],
      "execution_count": null,
      "outputs": []
    },
    {
      "cell_type": "code",
      "metadata": {
        "id": "BNhg4M3O784E"
      },
      "source": [
        ""
      ],
      "execution_count": null,
      "outputs": []
    },
    {
      "cell_type": "code",
      "metadata": {
        "id": "OCBlKL9kgk4D"
      },
      "source": [
        ""
      ],
      "execution_count": null,
      "outputs": []
    },
    {
      "cell_type": "code",
      "metadata": {
        "id": "RnE6KYQpgkoz"
      },
      "source": [
        ""
      ],
      "execution_count": null,
      "outputs": []
    },
    {
      "cell_type": "code",
      "metadata": {
        "id": "6Pf1HhgQgknl"
      },
      "source": [
        ""
      ],
      "execution_count": null,
      "outputs": []
    }
  ]
}