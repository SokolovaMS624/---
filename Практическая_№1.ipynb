{
  "nbformat": 4,
  "nbformat_minor": 0,
  "metadata": {
    "colab": {
      "name": "Практическая №1",
      "provenance": []
    },
    "kernelspec": {
      "name": "python3",
      "display_name": "Python 3"
    }
  },
  "cells": [
    {
      "cell_type": "code",
      "metadata": {
        "id": "AvjpmOyhho4A",
        "outputId": "c5f550c4-d66b-4d32-fddf-22716bf216a5",
        "colab": {
          "base_uri": "https://localhost:8080/",
          "height": 119
        }
      },
      "source": [
        "class Point:\n",
        "    amount = 0\n",
        "    def __init__(self, *args):\n",
        "        if len(args) == 2:\n",
        "            self.x = args[0]\n",
        "            self.y = args[1]\n",
        "        else:\n",
        "            self.x = self.y = 0\n",
        "        Point.amount += 1\n",
        "\n",
        "    def __del__(self):\n",
        "        Point.amount -= 1\n",
        "    def distance(self):\n",
        "        return (self.x ** 2 + self.y ** 2) ** 0.5\n",
        "    def __str__(self):\n",
        "        return '({}; {})'.format(self.x, self.y)\n",
        "\n",
        "p = Point(36, 42)\n",
        "from math import sqrt, pi\n",
        "\n",
        "class Circle:\n",
        "    def __init__(self, x, y, radius):\n",
        "        self.centre = Point(x, y)\n",
        "        self.radius = radius\n",
        "\n",
        "    def lencircle(self):\n",
        "        return 2 * pi * self.radius\n",
        "\n",
        "    def square(self):\n",
        "        return pi * self.radius ** 2\n",
        "\n",
        "    def move(self, x, y):\n",
        "        self.centre.x = x\n",
        "        self.centre.y = y\n",
        "        return(x, y)\n",
        "\n",
        "    def distance(self):\n",
        "        return sqrt(self.centre.x ** 2 + self.centre.y ** 2)  # поставить исключение(например дел на 0)\n",
        "\n",
        "    def __str__(self):\n",
        "        return \"Circle: centre: {}, radius: {}\".format(self.centre,\n",
        "                                                       self.radius)  # создать объект класса, вывести все методы\n",
        "    def primer(self, x, y):\n",
        "        try:\n",
        "            return x / y\n",
        "        except ZeroDivisionError:\n",
        "            return(f'На ноль делить нельзя!')\n",
        "\n",
        "Circle1 = Circle(33, 6, 98)\n",
        "print(\"Длина окружности: \" + str(Circle1.lencircle()))\n",
        "print(\"Площадь окружности: \" + str(Circle1.square()))\n",
        "print(\"Перемещение центра окружности: \" + str(Circle1.move(7, 976)))\n",
        "print(\"Дистанция: \" + str(Circle1.distance()))\n",
        "print(str(Circle1))\n",
        "print(Circle1.primer(5, 0))"
      ],
      "execution_count": 3,
      "outputs": [
        {
          "output_type": "stream",
          "text": [
            "Длина окружности: 615.7521601035994\n",
            "Площадь окружности: 30171.855845076374\n",
            "Перемещение центра окружности: (7, 976)\n",
            "Дистанция: 976.0251021362104\n",
            "Circle: centre: (7; 976), radius: 98\n",
            "На ноль делить нельзя!\n"
          ],
          "name": "stdout"
        }
      ]
    }
  ]
}