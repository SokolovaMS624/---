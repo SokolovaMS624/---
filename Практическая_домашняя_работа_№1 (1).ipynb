{
  "nbformat": 4,
  "nbformat_minor": 0,
  "metadata": {
    "colab": {
      "name": "Практическая домашняя работа №1",
      "provenance": []
    },
    "kernelspec": {
      "name": "python3",
      "display_name": "Python 3"
    }
  },
  "cells": [
    {
      "cell_type": "markdown",
      "metadata": {
        "id": "v5jAtvUkF8TG"
      },
      "source": [
        "АДЭУ-201\n",
        "Соколова Марина Сергеевна \n",
        "\n",
        "SokolovaMS624@mgpu.ru\n",
        "\n",
        "marinasokolova48232@gmail.com"
      ]
    },
    {
      "cell_type": "markdown",
      "metadata": {
        "id": "td_69EJEF_cU"
      },
      "source": [
        "Дополнительное задание "
      ]
    },
    {
      "cell_type": "code",
      "metadata": {
        "id": "hfZlRIDvF5Oh",
        "outputId": "ec7ffd75-521b-437a-e16a-0999b9942d3c",
        "colab": {
          "base_uri": "https://localhost:8080/",
          "height": 261
        }
      },
      "source": [
        "class SpaceShip:\n",
        "  def __init__(self):\n",
        "    self.hp = 100\n",
        "    self.speed = 1300\n",
        "    self.crew = 64\n",
        "    self.power_reserve = 56000\n",
        "\n",
        "  def __str__(self):\n",
        "    return \"SpeceShip: {}; {}; {}; {}\" .format(self.hp, self.speed, self.crew, self.power_reserve)\n",
        "\n",
        "  def draw(self):\n",
        "    print('+-|--------|-+')\n",
        "    print('+     ПП     +')\n",
        "    print('+     ПП     +')\n",
        "    print('=--П------П--+')\n",
        "class StarDestroyer(SpaceShip):\n",
        "  def __init__(self):\n",
        "    super().__init__()\n",
        "    self.shields = 100\n",
        "    self.shields_enabled = False\n",
        "    self.weapons = [100]*15\n",
        "\n",
        "  def __str__(self):\n",
        "    return \"StarDestroyer: {}; {}\" .format(self.shields, self.weapons)\n",
        "    \n",
        "  def shelds_on(self):\n",
        "     self.shields_enabled = True\n",
        "  \n",
        "  def shields_off(self):\n",
        "    self.shields_enabled = False\n",
        "  \n",
        "  def hit(self):\n",
        "    if self/shields_enabled:\n",
        "      self.shields -= 10\n",
        "    else: \n",
        "        self.hp -=10\n",
        "  \n",
        "  def draw (self):\n",
        "    print(\"        /\\        \")\n",
        "    print(\"       /  \\       \")\n",
        "    print(\"      /    \\      \") \n",
        "    print(\"     / |  | \\     \") \n",
        "    print(\"    /        \\    \") \n",
        "    print(\"   /   /..\\   \\   \")\n",
        "    print(\"  /   +----+   \\  \") \n",
        "    print(\" +---+-+--+-+---+ \") \n",
        "    print(\"     |_|  |_|\") \n",
        "\n",
        "SpaceShip1 = SpaceShip()\n",
        "StarDestroyer1 = StarDestroyer()\n",
        "print(StarDestroyer1.draw())\n",
        "print(SpaceShip1.draw())"
      ],
      "execution_count": 12,
      "outputs": [
        {
          "output_type": "stream",
          "text": [
            "        /\\        \n",
            "       /  \\       \n",
            "      /    \\      \n",
            "     / |  | \\     \n",
            "    /        \\    \n",
            "   /   /..\\   \\   \n",
            "  /   +----+   \\  \n",
            " +---+-+--+-+---+ \n",
            "     |_|  |_|\n",
            "None\n",
            "+-|--------|-+\n",
            "+     ПП     +\n",
            "+     ПП     +\n",
            "=--П------П--+\n",
            "None\n"
          ],
          "name": "stdout"
        }
      ]
    },
    {
      "cell_type": "markdown",
      "metadata": {
        "id": "DFzEaBGBGMiq"
      },
      "source": [
        "Задание №1"
      ]
    },
    {
      "cell_type": "code",
      "metadata": {
        "id": "N8VJYiyYGP3j",
        "outputId": "1fa96faf-dded-4bfd-d182-73fb1364ce31",
        "colab": {
          "base_uri": "https://localhost:8080/",
          "height": 82
        }
      },
      "source": [
        "class First:\n",
        "  color = \"red\"\n",
        "  def out(self):\n",
        "    print(self.color + \"!\") \n",
        "obj1 = First()\n",
        "obj2 = First()\n",
        "print(obj1.color)\n",
        "print(obj2.color)\n",
        "obj1.out()\n",
        "obj2.out()"
      ],
      "execution_count": 13,
      "outputs": [
        {
          "output_type": "stream",
          "text": [
            "red\n",
            "red\n",
            "red!\n",
            "red!\n"
          ],
          "name": "stdout"
        }
      ]
    },
    {
      "cell_type": "markdown",
      "metadata": {
        "id": "uM30ruGHGTwk"
      },
      "source": [
        "Задание №2.1"
      ]
    },
    {
      "cell_type": "code",
      "metadata": {
        "id": "3Upq2n6DGcaE",
        "outputId": "f9c4e43c-e9b6-4dec-c2b0-8578caa78507",
        "colab": {
          "base_uri": "https://localhost:8080/",
          "height": 82
        }
      },
      "source": [
        "class Second:\n",
        "  color = \"red\"\n",
        "  form = \"circle\"\n",
        "  size = \"middle\"\n",
        "\n",
        "  def changecolor (self,newcolor):\n",
        "    self.color = newcolor\n",
        "  \n",
        "  def changeform (self, newform):\n",
        "    self.form = newform\n",
        "  \n",
        "  def changesize (self,newsize):\n",
        "    self.size = newsize\n",
        "\n",
        "obj1 = Second ()\n",
        "obj2 = Second ()\n",
        "obj3 = Second ()\n",
        "\n",
        "print(obj1.color, obj1.form, obj1.size)\n",
        "print(obj2.color, obj2.form, obj2.size)\n",
        "\n",
        "obj1.changecolor(\"green\")\n",
        "obj2.changecolor(\"blue\")\n",
        "obj2.changeform(\"oval\")\n",
        "obj1.changesize(\"small\")\n",
        "\n",
        "print(obj1.color, obj1.form, obj1.size)\n",
        "print(obj2.color, obj2.form, obj2.size)"
      ],
      "execution_count": 14,
      "outputs": [
        {
          "output_type": "stream",
          "text": [
            "red circle middle\n",
            "red circle middle\n",
            "green circle small\n",
            "blue oval middle\n"
          ],
          "name": "stdout"
        }
      ]
    },
    {
      "cell_type": "markdown",
      "metadata": {
        "id": "z8BFhxpNGrAR"
      },
      "source": [
        "Задание №2.2"
      ]
    },
    {
      "cell_type": "code",
      "metadata": {
        "id": "xzG8HoaNGuDd",
        "outputId": "b928eded-732f-4bae-c08a-08a9d7d56afa",
        "colab": {
          "base_uri": "https://localhost:8080/",
          "height": 115
        }
      },
      "source": [
        "class Dog():\n",
        "  def __init__(self, name, age):\n",
        "    self.name = name\n",
        "    self.age = age \n",
        "\n",
        "  def sit(self):\n",
        "  #Собака будет садиться по команде\n",
        "    print(self.name.title()+ \"сел\")\n",
        "  def jump(self):\n",
        "  #Собака будет прыгать по команде\n",
        "    print(self.name.title()+ \"сделал прыжок\")\n",
        "\n",
        "my_dog = Dog ('Tim ', 4)\n",
        "print (my_dog.age)\n",
        "print (my_dog.name)\n",
        "my_dog.jump()\n",
        "\n",
        "my_dog_2 = Dog('Nick ', 7) \n",
        "print (my_dog_2.age)\n",
        "print (my_dog_2.name)\n",
        "my_dog_2.sit()"
      ],
      "execution_count": 15,
      "outputs": [
        {
          "output_type": "stream",
          "text": [
            "4\n",
            "Tim \n",
            "Tim сделал прыжок\n",
            "7\n",
            "Nick \n",
            "Nick сел\n"
          ],
          "name": "stdout"
        }
      ]
    },
    {
      "cell_type": "markdown",
      "metadata": {
        "id": "5EcpsZhdG31Z"
      },
      "source": [
        "Задание №3"
      ]
    },
    {
      "cell_type": "code",
      "metadata": {
        "id": "3DhIVVGKG6an",
        "outputId": "2a6fbac4-0ede-486d-a9e1-0a717a5fea93",
        "colab": {
          "base_uri": "https://localhost:8080/",
          "height": 50
        }
      },
      "source": [
        "class YesInit:\n",
        "  def __init__(self,one,two):\n",
        "    self.fname = one\n",
        "    self.sname = two\n",
        "\n",
        "obj1 = YesInit(\"Peter\",\"Ok\")\n",
        "\n",
        "\n",
        "print (obj1.fname, obj1.sname)\n",
        "\n",
        "class NoInit:\n",
        "  def names(self,one,two):\n",
        "    self.fname = one\n",
        "    self.sname = two\n",
        "    \n",
        "obj1 = NoInit()\n",
        "obj1.names(\"Peter\",\"Ok\")\n",
        "\n",
        "print (obj1.fname, obj1.sname)"
      ],
      "execution_count": 16,
      "outputs": [
        {
          "output_type": "stream",
          "text": [
            "Peter Ok\n",
            "Peter Ok\n"
          ],
          "name": "stdout"
        }
      ]
    },
    {
      "cell_type": "markdown",
      "metadata": {
        "id": "DLfrpLTzG_cb"
      },
      "source": [
        "Задание №4"
      ]
    },
    {
      "cell_type": "code",
      "metadata": {
        "id": "VSJGBrqaHCXA",
        "outputId": "3b6c9d4d-e2d1-4339-b4e1-3c37ad41ee56",
        "colab": {
          "base_uri": "https://localhost:8080/",
          "height": 82
        }
      },
      "source": [
        "class YesInit:\n",
        "  def __init__(self,one=\"noname\",two=\"nonametoo\"):\n",
        "    self.fname = one\n",
        "    self.sname = two\n",
        "\n",
        "obj1 = YesInit(\"Sasha\",\"Tu\")\n",
        "obj2 = YesInit()\n",
        "obj3 = YesInit(\"Spartak\")\n",
        "obj4 = YesInit(two=\"Harry\")\n",
        "\n",
        "print (obj1.fname, obj1.sname)\n",
        "print (obj2.fname, obj2.sname)\n",
        "print (obj3.fname, obj3.sname)\n",
        "print (obj4.fname, obj4.sname)"
      ],
      "execution_count": 17,
      "outputs": [
        {
          "output_type": "stream",
          "text": [
            "Sasha Tu\n",
            "noname nonametoo\n",
            "Spartak nonametoo\n",
            "noname Harry\n"
          ],
          "name": "stdout"
        }
      ]
    },
    {
      "cell_type": "markdown",
      "metadata": {
        "id": "YAkwxL7JHF03"
      },
      "source": [
        "Задание №5"
      ]
    },
    {
      "cell_type": "code",
      "metadata": {
        "id": "WJfL-GW6HKz_",
        "outputId": "574480cc-5e26-4c52-f44c-7b707633d000",
        "colab": {
          "base_uri": "https://localhost:8080/",
          "height": 82
        }
      },
      "source": [
        "class fruits:\n",
        "  def __init__(self,w,n=0):\n",
        "    self.what = w\n",
        "    self.numbers = n\n",
        "\n",
        "f1 = fruits(\"apple\",150)\n",
        "f2 = fruits(\"pineapple\")\n",
        "\n",
        "print(f1.what,f1.numbers)\n",
        "print(f2.what,f2.numbers)\n",
        "\n",
        "class fruits:\n",
        "  def __init__(self,w,n=0):\n",
        "    self.what = w\n",
        "    self.numbers = n\n",
        "\n",
        "f1 = fruits(150,\"apple\")\n",
        "f2 = fruits(\"pineapple\")\n",
        "\n",
        "print(f1.what,f1.numbers)\n",
        "print(f2.what,f2.numbers)"
      ],
      "execution_count": 18,
      "outputs": [
        {
          "output_type": "stream",
          "text": [
            "apple 150\n",
            "pineapple 0\n",
            "150 apple\n",
            "pineapple 0\n"
          ],
          "name": "stdout"
        }
      ]
    },
    {
      "cell_type": "markdown",
      "metadata": {
        "id": "T064VC1rHOLy"
      },
      "source": [
        "Задание №6"
      ]
    },
    {
      "cell_type": "code",
      "metadata": {
        "id": "chYvnjkyHOXJ",
        "outputId": "286e3652-5ff2-4c99-ffe6-93602224e38e",
        "colab": {
          "base_uri": "https://localhost:8080/",
          "height": 131
        }
      },
      "source": [
        "class Building:\n",
        "  def __init__(self,w,c,n=0):\n",
        "    self.what = w\n",
        "    self.color = c\n",
        "    self.numbers = n\n",
        "    self.mwhere(n)\n",
        "\n",
        "  def mwhere(self,n):\n",
        "    if n <= 0:\n",
        "      self.where = \"отсутствуют\"\n",
        "    elif 0 < n < 100:\n",
        "      self.where = \"малый склад\"\n",
        "    else:\n",
        "      self.where = \"основной склад\"\n",
        "\n",
        "  def plus(self,p):\n",
        "    self.numbers = self.numbers + p\n",
        "    self.mwhere(self.numbers)\n",
        "\n",
        "  def minus(self,m):\n",
        "    self.numbers = self.numbers - m\n",
        "    self.mwhere(self.numbers)\n",
        "\n",
        "m1 = Building(\"доски\", \"белые\",50)\n",
        "m2 = Building(\"доски\", \"коричневые\", 300)\n",
        "m3 = Building(\"кирпичи\",\"белые\")\n",
        "\n",
        "print (m1.what,m1.color,m1.where)\n",
        "print (m2.what,m2.color,m2.where)\n",
        "print (m3.what,m3.color,m3.where)\n",
        "\n",
        "m1.plus(500)\n",
        "print (m1.numbers, m1.where)\n",
        "\n",
        "\n",
        "class Park:\n",
        "  def __init__(self,l,b,s):\n",
        "    self.plant = l\n",
        "    self.benches = b \n",
        "    self.size = s \n",
        "    self.mwhere(b)\n",
        "\n",
        "  def mwhere(self,b):\n",
        "    if b <= 20:\n",
        "      self.where = \"маленький сад\"\n",
        "    elif 20 < b < 50:\n",
        "      self.where = \"средний сад\"\n",
        "    else:\n",
        "      self.where = \"большой сад\"\n",
        "\n",
        "  def plus(self,p):\n",
        "    self.benches = self.benches + p\n",
        "    self.mwhere(self.benches)\n",
        "\n",
        "  def minus(self,m):\n",
        "    self.benches = self.benches - m\n",
        "    self.mwhere(self.benches)\n",
        "\n",
        "m1 = Park (\"дуб\", 30, 5)\n",
        "m2 = Park (\"береза\",10, 1)\n",
        "m3 = Park (\"ель\",55, 15 )\n",
        "\n",
        "print(m1.plant, m1.where, m1.size)\n",
        "print(m2.plant, m2.where, m2.size)\n",
        "print(m3.plant, m3.where, m3.size)"
      ],
      "execution_count": 19,
      "outputs": [
        {
          "output_type": "stream",
          "text": [
            "доски белые малый склад\n",
            "доски коричневые основной склад\n",
            "кирпичи белые отсутствуют\n",
            "550 основной склад\n",
            "дуб средний сад 5\n",
            "береза маленький сад 1\n",
            "ель большой сад 15\n"
          ],
          "name": "stdout"
        }
      ]
    },
    {
      "cell_type": "markdown",
      "metadata": {
        "id": "rCdHtN-nHXoz"
      },
      "source": [
        "Задание №7"
      ]
    },
    {
      "cell_type": "code",
      "metadata": {
        "id": "MSnIqvwlHadu",
        "outputId": "2a422400-f109-42bc-8a0a-7008a6adfa2c",
        "colab": {
          "base_uri": "https://localhost:8080/",
          "height": 82
        }
      },
      "source": [
        "class Things:\n",
        "  def __init__(self,n,t):\n",
        "    self.namething = n\n",
        "    self.total = t\n",
        "\n",
        "th1=Things(\"table\", 5)\n",
        "th2=Things(\"computer\", 7)\n",
        "\n",
        "print(th1.namething, th1.total) \n",
        "print(th2.namething, th2.total) \n",
        "\n",
        "th1.color = \"green\" \n",
        "th2.color = \"\"\n",
        "\n",
        "print(th1.color) \n",
        "print(th2.color) "
      ],
      "execution_count": 20,
      "outputs": [
        {
          "output_type": "stream",
          "text": [
            "table 5\n",
            "computer 7\n",
            "green\n",
            "\n"
          ],
          "name": "stdout"
        }
      ]
    },
    {
      "cell_type": "markdown",
      "metadata": {
        "id": "SHnCQ8NYHd7-"
      },
      "source": [
        "Задание №8"
      ]
    },
    {
      "cell_type": "code",
      "metadata": {
        "id": "FtBrM44WHino",
        "outputId": "877fb5cd-1f7f-4209-9850-1a71c6250800",
        "colab": {
          "base_uri": "https://localhost:8080/",
          "height": 82
        }
      },
      "source": [
        "class Table:\n",
        "  def __init__(self,l,w,h):\n",
        "    self.long = l\n",
        "    self.width = w\n",
        "    self.height = h\n",
        "\n",
        "  def outing(self):\n",
        "    print (self.long,self.width,self.height)\n",
        "\n",
        "\n",
        "\n",
        "class Worker(Table):\n",
        "  def area(self, a):\n",
        "    if a<3:\n",
        "      print (\"It is not Worker table\")\n",
        "    else:\n",
        "      self.places=a\n",
        "\n",
        "  def outplases(self):\n",
        "    print(self.places)\n",
        "\n",
        "\n",
        "\n",
        "class Kitchen(Table):\n",
        "  def howplaces(self,n):\n",
        "    if n<2:\n",
        "      print (\"It is not kitchen table\")\n",
        "    else:\n",
        "      self.places = n\n",
        "\n",
        "  def outplases(self):\n",
        "    print(self.places)\n",
        "\n",
        "\n",
        "t_room1 = Kitchen(2,1,0.5)\n",
        "t_room1.outing()\n",
        "t_room1.howplaces(5)\n",
        "t_room1.outplases()\n",
        "\n",
        "t_room2 = Worker(1,3,0.7)\n",
        "t_room2.outing()\n",
        "t_room2.area(15)\n",
        "t_room2.outplases()"
      ],
      "execution_count": 21,
      "outputs": [
        {
          "output_type": "stream",
          "text": [
            "2 1 0.5\n",
            "5\n",
            "1 3 0.7\n",
            "15\n"
          ],
          "name": "stdout"
        }
      ]
    },
    {
      "cell_type": "markdown",
      "metadata": {
        "id": "sqZLPNxdHnnC"
      },
      "source": [
        "Задание №8 Практическая работа "
      ]
    },
    {
      "cell_type": "code",
      "metadata": {
        "id": "nf3bVDArHtTF",
        "outputId": "abbb746f-fb08-4d4b-9b11-2b289ac64289",
        "colab": {
          "base_uri": "https://localhost:8080/",
          "height": 82
        }
      },
      "source": [
        "class Figure:\n",
        "  color = 'white'\n",
        "  def changecolor (self,newcolor):\n",
        "      self.color = newcolor\n",
        "obj1 = Figure ()\n",
        "print(obj1.color)\n",
        "obj1.changecolor(\"green\")\n",
        "print(obj1.color)\n",
        "\n",
        "class Oval(Figure):\n",
        "  def __init__(self,s,r):\n",
        "    self.size = s\n",
        "    self.rudius = r\n",
        "obj2 = Oval(44, 5)\n",
        "\n",
        "print(obj2.size,obj2.rudius)\n",
        "\n",
        "class Square(Figure):\n",
        "  def __init__(self,s,a):\n",
        "    self.size = s\n",
        "    self.area = a\n",
        "obj3 = Square(5, 25)\n",
        "\n",
        "print(obj3.size,obj3.area)"
      ],
      "execution_count": 22,
      "outputs": [
        {
          "output_type": "stream",
          "text": [
            "white\n",
            "green\n",
            "44 5\n",
            "5 25\n"
          ],
          "name": "stdout"
        }
      ]
    }
  ]
}