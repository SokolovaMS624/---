{
  "nbformat": 4,
  "nbformat_minor": 0,
  "metadata": {
    "colab": {
      "name": "Практ.№1",
      "provenance": [],
      "collapsed_sections": []
    },
    "kernelspec": {
      "name": "python3",
      "display_name": "Python 3"
    }
  },
  "cells": [
    {
      "cell_type": "markdown",
      "metadata": {
        "id": "6FHofv8z2xtJ"
      },
      "source": [
        "АДЭУ-201\n",
        "Соколова Марина Сергеевна \n",
        "\n",
        "SokolovaMS624@mgpu.ru\n",
        "\n",
        "marinasokolova48232@gmail.com"
      ]
    },
    {
      "cell_type": "markdown",
      "metadata": {
        "id": "1SK1Gno117U7"
      },
      "source": [
        "Дополнительное задание \n",
        "\n",
        "\n",
        "\n"
      ]
    },
    {
      "cell_type": "code",
      "metadata": {
        "id": "h_-pFWPMTHcG"
      },
      "source": [
        "class SpaceShip:\n",
        "  def __init__(self):\n",
        "    self.hp = 100\n",
        "    self.speed = 1300\n",
        "    self.crew = 64\n",
        "    self.power_reserve = 56000\n",
        "\n",
        "  def __str__(self):\n",
        "    return \"SpeceShip: {}; {}; {}; {}\" .format(self.hp, self.speed, self.crew, self.power_reserve)\n",
        "\n",
        "  def draw(self):\n",
        "    print('+-|--------|-+')\n",
        "    print('+     ПП     +')\n",
        "    print('+     ПП     +')\n",
        "    print('=--П------П--+')\n",
        "class StarDestroyer(SpaceShip):\n",
        "  def __init__(self):\n",
        "    super().__init__()\n",
        "    self.shields = 100\n",
        "    self.shields_enabled = False\n",
        "    self.weapons = [100]*15\n",
        "\n",
        "  def __str__(self):\n",
        "    return \"StarDestroyer: {}; {}\" .format(self.shields, self.weapons)\n",
        "    \n",
        "  def shelds_on(self):\n",
        "     self.shields_enabled = True\n",
        "  \n",
        "  def shields_off(self):\n",
        "    self.shields_enabled = False\n",
        "  \n",
        "  def hit(self):\n",
        "    if self/shields_enabled:\n",
        "      self.shields -= 10\n",
        "    else: \n",
        "        self.hp -=10\n",
        "  \n",
        "  def draw (self):\n",
        "    print(\"        /\\        \")\n",
        "    print(\"       /  \\       \")\n",
        "    print(\"      /    \\      \") \n",
        "    print(\"     / |  | \\     \") \n",
        "    print(\"    /        \\    \") \n",
        "    print(\"   /   /..\\   \\   \")\n",
        "    print(\"  /   +----+   \\  \") \n",
        "    print(\" +---+-+--+-+---+ \") \n",
        "    print(\"     |_|  |_|\") \n",
        "\n",
        "SpaceShip1 = SpaceShip()\n",
        "StarDestroyer1 = StarDestroyer()\n",
        "print(StarDestroyer1.draw())\n",
        "print(SpaceShip1.draw())"
      ],
      "execution_count": null,
      "outputs": []
    },
    {
      "cell_type": "markdown",
      "metadata": {
        "id": "ZW7ACGhec8Bk"
      },
      "source": [
        "Задание №1"
      ]
    },
    {
      "cell_type": "code",
      "metadata": {
        "id": "TpQHdPaHchf8"
      },
      "source": [
        "class First:\n",
        "  color = \"red\"\n",
        "  def out(self):\n",
        "    print(self.color + \"!\") \n",
        "obj1 = First()\n",
        "obj2 = First()\n",
        "print(obj1.color)\n",
        "print(obj2.color)\n",
        "obj1.out()\n",
        "obj2.out()"
      ],
      "execution_count": null,
      "outputs": []
    },
    {
      "cell_type": "markdown",
      "metadata": {
        "id": "RjSHW1XqdAV5"
      },
      "source": [
        "Задание №2.1"
      ]
    },
    {
      "cell_type": "code",
      "metadata": {
        "id": "C7QF2Oq0dqj5"
      },
      "source": [
        "  class Second:\n",
        "    color = \"red\"\n",
        "    form = \"circle\"\n",
        "    size = \"middle\"\n",
        "    def changecolor (self,newcolor):\n",
        "      self.color = newcolor\n",
        "    def changeform (self, newform):\n",
        "      self.form = newform\n",
        "    def changesize (self,newsize):\n",
        "      self.size = newsize\n",
        "obj1 = Second ()\n",
        "obj2 = Second ()\n",
        "obj3 = Second ()\n",
        "\n",
        "print(obj1.color, obj1.form, obj1.size)\n",
        "print(obj2.color, obj2.form, obj2.size)\n",
        "\n",
        "obj1.changecolor(\"green\")\n",
        "obj2.changecolor(\"blue\")\n",
        "obj2.changeform(\"oval\")\n",
        "obj1.changesize(\"small\")\n",
        "\n",
        "print(obj1.color, obj1.form, obj1.size)\n",
        "print(obj2.color, obj2.form, obj2.size)"
      ],
      "execution_count": null,
      "outputs": []
    },
    {
      "cell_type": "markdown",
      "metadata": {
        "id": "_IWaq09crjLZ"
      },
      "source": [
        "Задание №2.2"
      ]
    },
    {
      "cell_type": "code",
      "metadata": {
        "id": "M9-laZ1IrpQ3"
      },
      "source": [
        "class Dog():\n",
        "  #\"Простая модель собаки\"\n",
        "  def __init__(self, name, age):\n",
        "  #Имя и возраст\n",
        "    self.name = name\n",
        "    self.age = age \n",
        "\n",
        "  def sit(self):\n",
        "  #Собака будет садиться по команде\n",
        "    print(self.name.title()+ \"сел\")\n",
        "  def jump(self):\n",
        "  #Собака будет прыгать по команде\n",
        "    print(self.name.title()+ \"сделал прыжок\")\n",
        "\n",
        "my_dog = Dog ('Tim ', 4)\n",
        "print (my_dog.age)\n",
        "print (my_dog.name)\n",
        "my_dog.jump()\n",
        "\n",
        "\n",
        "my_dog_2 = Dog('Nick ', 7) \n",
        "print (my_dog_2.age)\n",
        "print (my_dog_2.name)\n",
        "my_dog_2.sit()\n",
        "\n",
        "  "
      ],
      "execution_count": null,
      "outputs": []
    },
    {
      "cell_type": "markdown",
      "metadata": {
        "id": "mf5LUxJO4tPK"
      },
      "source": [
        "Задание №3"
      ]
    },
    {
      "cell_type": "code",
      "metadata": {
        "id": "F4Soe9TH2VIG"
      },
      "source": [
        "class YesInit:\n",
        "  def __init__(self,one,two):\n",
        "    self.fname = one\n",
        "    self.sname = two\n",
        "\n",
        "obj1 = YesInit(\"Peter\",\"Ok\")\n",
        "\n",
        "\n",
        "print (obj1.fname, obj1.sname)\n",
        "\n",
        "class NoInit:\n",
        "  def names(self,one,two):\n",
        "    self.fname = one\n",
        "    self.sname = two\n",
        "    \n",
        "obj1 = NoInit()\n",
        "obj1.names(\"Peter\",\"Ok\")\n",
        "\n",
        "print (obj1.fname, obj1.sname)"
      ],
      "execution_count": null,
      "outputs": []
    },
    {
      "cell_type": "markdown",
      "metadata": {
        "id": "cb2OgNozV4jF"
      },
      "source": [
        "Задание №4"
      ]
    },
    {
      "cell_type": "code",
      "metadata": {
        "id": "29S-EZFa414q"
      },
      "source": [
        "class YesInit:\n",
        "  def __init__(self,one=\"noname\",two=\"nonametoo\"):\n",
        "    self.fname = one\n",
        "    self.sname = two\n",
        "\n",
        "obj1 = YesInit(\"Sasha\",\"Tu\")\n",
        "obj2 = YesInit()\n",
        "obj3 = YesInit(\"Spartak\")\n",
        "obj4 = YesInit(two=\"Harry\")\n",
        "\n",
        "print (obj1.fname, obj1.sname)\n",
        "print (obj2.fname, obj2.sname)\n",
        "print (obj3.fname, obj3.sname)\n",
        "print (obj4.fname, obj4.sname)\n"
      ],
      "execution_count": null,
      "outputs": []
    },
    {
      "cell_type": "markdown",
      "metadata": {
        "id": "xRgBG4L595pI"
      },
      "source": [
        "Задание №5"
      ]
    },
    {
      "cell_type": "code",
      "metadata": {
        "id": "R_i7YbdI7bh7"
      },
      "source": [
        "class fruits:\n",
        "  def __init__(self,w,n=0):\n",
        "    self.what = w\n",
        "    self.numbers = n\n",
        "\n",
        "f1 = fruits(\"apple\",150)\n",
        "f2 = fruits(\"pineapple\")\n",
        "\n",
        "print(f1.what,f1.numbers)\n",
        "print(f2.what,f2.numbers)\n",
        "\n",
        "class fruits:\n",
        "  def __init__(self,w,n=0):\n",
        "    self.what = w\n",
        "    self.numbers = n\n",
        "\n",
        "f1 = fruits(150,\"apple\")\n",
        "f2 = fruits(\"pineapple\")\n",
        "\n",
        "print(f1.what,f1.numbers)\n",
        "print(f2.what,f2.numbers)"
      ],
      "execution_count": null,
      "outputs": []
    },
    {
      "cell_type": "markdown",
      "metadata": {
        "id": "CLswML_Y-AzL"
      },
      "source": [
        "Задание №6"
      ]
    },
    {
      "cell_type": "code",
      "metadata": {
        "id": "SMtDVxq999HJ"
      },
      "source": [
        "class Building:\n",
        "  def __init__(self,w,c,n=0):\n",
        "    self.what = w\n",
        "    self.color = c\n",
        "    self.numbers = n\n",
        "    self.mwhere(n)\n",
        "\n",
        "  def mwhere(self,n):\n",
        "    if n <= 0:\n",
        "      self.where = \"отсутствуют\"\n",
        "    elif 0 < n < 100:\n",
        "      self.where = \"малый склад\"\n",
        "    else:\n",
        "      self.where = \"основной склад\"\n",
        "\n",
        "  def plus(self,p):\n",
        "    self.numbers = self.numbers + p\n",
        "    self.mwhere(self.numbers)\n",
        "\n",
        "  def minus(self,m):\n",
        "    self.numbers = self.numbers - m\n",
        "    self.mwhere(self.numbers)\n",
        "\n",
        "m1 = Building(\"доски\", \"белые\",50)\n",
        "m2 = Building(\"доски\", \"коричневые\", 300)\n",
        "m3 = Building(\"кирпичи\",\"белые\")\n",
        "\n",
        "print (m1.what,m1.color,m1.where)\n",
        "print (m2.what,m2.color,m2.where)\n",
        "print (m3.what,m3.color,m3.where)\n",
        "\n",
        "m1.plus(500)\n",
        "print (m1.numbers, m1.where)\n",
        "\n",
        "\n",
        "class Park:\n",
        "  def __init__(self,l,b,s):\n",
        "    self.plant = l\n",
        "    self.benches = b \n",
        "    self.size = s \n",
        "    self.mwhere(b)\n",
        "\n",
        "  def mwhere(self,b):\n",
        "    if b <= 20:\n",
        "      self.where = \"маленький сад\"\n",
        "    elif 20 < b < 50:\n",
        "      self.where = \"средний сад\"\n",
        "    else:\n",
        "      self.where = \"большой сад\"\n",
        "\n",
        "  def plus(self,p):\n",
        "    self.benches = self.benches + p\n",
        "    self.mwhere(self.benches)\n",
        "\n",
        "  def minus(self,m):\n",
        "    self.benches = self.benches - m\n",
        "    self.mwhere(self.benches)\n",
        "\n",
        "m1 = Park (\"дуб\", 30, 5)\n",
        "m2 = Park (\"береза\",10, 1)\n",
        "m3 = Park (\"ель\",55, 15 )\n",
        "\n",
        "print(m1.plant, m1.where, m1.size)\n",
        "print(m2.plant, m2.where, m2.size)\n",
        "print(m3.plant, m3.where, m3.size)"
      ],
      "execution_count": null,
      "outputs": []
    },
    {
      "cell_type": "markdown",
      "metadata": {
        "id": "cJr8qV1f_J8D"
      },
      "source": [
        "Задание №7"
      ]
    },
    {
      "cell_type": "code",
      "metadata": {
        "id": "m2wHQYpS_Jrx"
      },
      "source": [
        "class Things:\n",
        "  def __init__(self,n,t):\n",
        "    self.namething = n\n",
        "    self.total = t\n",
        "\n",
        "th1=Things(\"table\", 5)\n",
        "th2=Things(\"computer\", 7)\n",
        "\n",
        "print(th1.namething, th1.total) \n",
        "print(th2.namething, th2.total) \n",
        "\n",
        "th1.color = \"green\" \n",
        "th2.color = \"\"\n",
        "\n",
        "print(th1.color) \n",
        "print(th2.color) "
      ],
      "execution_count": null,
      "outputs": []
    },
    {
      "cell_type": "markdown",
      "metadata": {
        "id": "YZpZNFkyBlgN"
      },
      "source": [
        "Задание №8"
      ]
    },
    {
      "cell_type": "code",
      "metadata": {
        "id": "fUWb5RelBlYb"
      },
      "source": [
        "class Table:\n",
        "  def __init__(self,l,w,h):\n",
        "    self.long = l\n",
        "    self.width = w\n",
        "    self.height = h\n",
        "\n",
        "  def outing(self):\n",
        "    print (self.long,self.width,self.height)\n",
        "\n",
        "\n",
        "\n",
        "class Worker(Table):\n",
        "  def area(self, a):\n",
        "    if a<3:\n",
        "      print (\"It is not Worker table\")\n",
        "    else:\n",
        "      self.places=a\n",
        "\n",
        "  def outplases(self):\n",
        "    print(self.places)\n",
        "\n",
        "\n",
        "\n",
        "class Kitchen(Table):\n",
        "  def howplaces(self,n):\n",
        "    if n<2:\n",
        "      print (\"It is not kitchen table\")\n",
        "    else:\n",
        "      self.places = n\n",
        "\n",
        "  def outplases(self):\n",
        "    print(self.places)\n",
        "\n",
        "\n",
        "t_room1 = Kitchen(2,1,0.5)\n",
        "t_room1.outing()\n",
        "t_room1.howplaces(5)\n",
        "t_room1.outplases()\n",
        "\n",
        "t_room2 = Worker(1,3,0.7)\n",
        "t_room2.outing()\n",
        "t_room2.area(15)\n",
        "t_room2.outplases()"
      ],
      "execution_count": null,
      "outputs": []
    },
    {
      "cell_type": "markdown",
      "metadata": {
        "id": "ami94qDo1hh1"
      },
      "source": [
        "№8 Практическая работа "
      ]
    },
    {
      "cell_type": "code",
      "metadata": {
        "id": "HRWyiRdiqvU3"
      },
      "source": [
        "class Figure:\n",
        "  color = 'white'\n",
        "  def changecolor (self,newcolor):\n",
        "      self.color = newcolor\n",
        "obj1 = Figure ()\n",
        "print(obj1.color)\n",
        "obj1.changecolor(\"green\")\n",
        "print(obj1.color)\n",
        "\n",
        "class Oval(Figure):\n",
        "  def __init__(self,s,r):\n",
        "    self.size = s\n",
        "    self.rudius = r\n",
        "obj2 = Oval(44, 5)\n",
        "\n",
        "print(obj2.size,obj2.rudius)\n",
        "\n",
        "class Square(Figure):\n",
        "  def __init__(self,s,a):\n",
        "    self.size = s\n",
        "    self.area = a\n",
        "obj3 = Square(5, 25)\n",
        "\n",
        "print(obj3.size,obj3.area)"
      ],
      "execution_count": null,
      "outputs": []
    }
  ]
}