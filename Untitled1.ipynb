{
  "nbformat": 4,
  "nbformat_minor": 0,
  "metadata": {
    "colab": {
      "name": "Untitled1.ipynb",
      "provenance": [],
      "toc_visible": true
    },
    "kernelspec": {
      "name": "python3",
      "display_name": "Python 3"
    }
  },
  "cells": [
    {
      "cell_type": "markdown",
      "metadata": {
        "id": "ml7OdjrBIJtG"
      },
      "source": [
        "# Новый раздел"
      ]
    },
    {
      "cell_type": "code",
      "metadata": {
        "id": "21Ru23hEILhv"
      },
      "source": [
        ""
      ],
      "execution_count": null,
      "outputs": []
    },
    {
      "cell_type": "code",
      "metadata": {
        "id": "GA1WlgyHB9Ej",
        "outputId": "052470b2-f4e6-4ce9-e62f-c743fa0ca022",
        "colab": {
          "base_uri": "https://localhost:8080/",
          "height": 102
        }
      },
      "source": [
        "from math import sqrt, pi\n",
        "class Circle:\n",
        "    def __init__(self,x,y, radius):\n",
        "        self.center = Point(x,y)\n",
        "        self.radius = radius\n",
        "        if self.radius < 0:\n",
        "            print(\"radius should be greater than 0\")\n",
        "    def  lencircle(self):\n",
        "        return 2 * pi * self.radius\n",
        " \n",
        "    def Square(self):\n",
        "        return pi* self.radius**2\n",
        " \n",
        "    def move (self,x,y):\n",
        "        self.center.x = x\n",
        "        self.center.y = y\n",
        " \n",
        "    def distance(self):\n",
        "        return sqrt(self.center.x**2 + self.center.y**2)\n",
        "  \n",
        "    def __str__(self):\n",
        "        if self.radius < 0:\n",
        "            return \"радиус должен быть больше 0\"\n",
        "        else:\n",
        "            return \"Circle: center: {}, radius: {}\" .format(self.center, self.radius)\n",
        " \n",
        "Circle1 = Circle(3,4,5) \n",
        "Circle2 = Circle(5, -5, -5)\n",
        " \n",
        "print('Длина окружности: ', round(Circle1.lencircle(), 2))\n",
        "print('Площадь окружности: ', round(Circle1.Square(), 2))\n",
        "print('Расстояние: ', round(Circle1.distance(), 2))\n",
        "Circle1.move(-20, 15)\n",
        "print('Расстояние после перемещения: ', round(Circle1.distance(), 2))\n",
        " \n"
      ],
      "execution_count": 6,
      "outputs": [
        {
          "output_type": "stream",
          "text": [
            "radius should be greater than 0\n",
            "Длина окружности:  31.42\n",
            "Площадь окружности:  78.54\n",
            "Расстояние:  5.0\n",
            "Расстояние после перемещения:  25.0\n"
          ],
          "name": "stdout"
        }
      ]
    }
  ]
}